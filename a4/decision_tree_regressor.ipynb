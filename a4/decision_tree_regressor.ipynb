{
 "cells": [
  {
   "cell_type": "code",
   "execution_count": null,
   "id": "b9e4effb-0445-46ae-bba6-757b1059fe1e",
   "metadata": {},
   "outputs": [],
   "source": [
    "# active SparkSession\n",
    "from pyspark.sql import SparkSession\n",
    "spark = SparkSession.builder.appName(\"CS131-A4 Decision Tree\").getOrCreate()\n"
   ]
  },
  {
   "cell_type": "code",
   "execution_count": null,
   "id": "1c0216b5-5943-4ae3-ab18-5b69bb1691c0",
   "metadata": {},
   "outputs": [],
   "source": [
    "# read data, select columns \n",
    "df = spark.read.csv(\"2019-04.csv\", header=True, inferSchema=True)\n",
    "selected = df.select(\"passenger_count\", \"PULocationID\", \"DOLocationID\", \"total_amount\")\n",
    "selected.show(10)\n"
   ]
  },
  {
   "cell_type": "code",
   "execution_count": null,
   "id": "497b24ef-60b6-4862-9036-f0fba387dbc8",
   "metadata": {},
   "outputs": [],
   "source": [
    "# split into train/test\n",
    "trainDF, testDF v= data.randomSplit([0.8, 0.2], seed=42)"
   ]
  },
  {
   "cell_type": "code",
   "execution_count": null,
   "id": "46ddb3d7-dd3c-4d02-9b79-263c9f8bb96d",
   "metadata": {},
   "outputs": [],
   "source": [
    "# create Pipeline（VectorAssembler + Decision Tree）\n",
    "from pyspark.ml.feature import VectorAssembler\n",
    "from pyspark.ml.regression import DecisionTreeRegressor\n",
    "from pyspark.ml import Pipeline\n",
    "\n",
    "vec = VectorAssembler(inputCols=[\"passenger_count\", \"PULocationID\", \"DOLocationID\"], outputCol=\"features\")\n",
    "dt = DecisionTreeRegressor(labelCol=\"total_amount\", featuresCol=\"features\")\n",
    "pipeline = Pipeline(stages=[vec, dt])\n"
   ]
  },
  {
   "cell_type": "code",
   "execution_count": null,
   "id": "362afdcb-99b4-4a30-b105-2826291174bc",
   "metadata": {},
   "outputs": [],
   "source": [
    "# train the model\n",
    "model = pipeline.fit(trainDF)"
   ]
  },
  {
   "cell_type": "code",
   "execution_count": null,
   "id": "02c0e86d-a60c-4e83-96fa-1f05a32427d7",
   "metadata": {},
   "outputs": [],
   "source": [
    "# Show the predicted results along with the three features in the notebook. (Show the first 10 entries.)\n",
    "predictions = model.transform(testDF)\n",
    "predictions.select(\"passenger_count\", \"PULocationID\", \"DOLocationID\", \"prediction\").show(10)"
   ]
  },
  {
   "cell_type": "code",
   "execution_count": null,
   "id": "b9acf63d-9fba-46bf-bcae-12b9497f2e97",
   "metadata": {},
   "outputs": [],
   "source": [
    "# Evaluate the model with RMSE\n",
    "from pyspark.ml.evaluation import RegressionEvaluator\n",
    "evaluator = RegressionEvaluator(labelCol=\"total_amount\", predictionCol=\"prediction\", metricName=\"rmse\")\n",
    "rmse = evaluator.evaluate(predictions)\n",
    "print(\"Root Mean Squared Error (RMSE):\", rmse)\n"
   ]
  }
 ],
 "metadata": {
  "kernelspec": {
   "display_name": "Python 3 (ipykernel)",
   "language": "python",
   "name": "python3"
  },
  "language_info": {
   "codemirror_mode": {
    "name": "ipython",
    "version": 3
   },
   "file_extension": ".py",
   "mimetype": "text/x-python",
   "name": "python",
   "nbconvert_exporter": "python",
   "pygments_lexer": "ipython3",
   "version": "3.12.5"
  }
 },
 "nbformat": 4,
 "nbformat_minor": 5
}
